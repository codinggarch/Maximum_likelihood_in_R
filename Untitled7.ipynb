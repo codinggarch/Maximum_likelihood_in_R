{
  "nbformat": 4,
  "nbformat_minor": 0,
  "metadata": {
    "colab": {
      "name": "Untitled7.ipynb",
      "provenance": [],
      "authorship_tag": "ABX9TyPFqNLlW8GpOEuWgmlCFOr5",
      "include_colab_link": true
    },
    "kernelspec": {
      "name": "python3",
      "display_name": "Python 3"
    },
    "language_info": {
      "name": "python"
    }
  },
  "cells": [
    {
      "cell_type": "markdown",
      "metadata": {
        "id": "view-in-github",
        "colab_type": "text"
      },
      "source": [
        "<a href=\"https://colab.research.google.com/github/codinggarch/Maximum_likelihood_in_R/blob/master/Untitled7.ipynb\" target=\"_parent\"><img src=\"https://colab.research.google.com/assets/colab-badge.svg\" alt=\"Open In Colab\"/></a>"
      ]
    },
    {
      "cell_type": "code",
      "metadata": {
        "colab": {
          "base_uri": "https://localhost:8080/"
        },
        "id": "lHrC_hWUCJDL",
        "outputId": "a4cd41c1-f9f6-46be-d611-ef4eccad8265"
      },
      "source": [
        "!git clone https://github.com/bachtranxuan/GCTM.git"
      ],
      "execution_count": 1,
      "outputs": [
        {
          "output_type": "stream",
          "text": [
            "Cloning into 'GCTM'...\n",
            "remote: Enumerating objects: 99, done.\u001b[K\n",
            "remote: Counting objects: 100% (99/99), done.\u001b[K\n",
            "remote: Compressing objects: 100% (93/93), done.\u001b[K\n",
            "remote: Total 99 (delta 50), reused 26 (delta 5), pack-reused 0\u001b[K\n",
            "Unpacking objects: 100% (99/99), done.\n"
          ],
          "name": "stdout"
        }
      ]
    },
    {
      "cell_type": "code",
      "metadata": {
        "colab": {
          "base_uri": "https://localhost:8080/"
        },
        "id": "drT8ps2kCldS",
        "outputId": "dfdb708f-7b2c-4e61-e444-7e7ebb0b866b"
      },
      "source": [
        "cd GCTM/"
      ],
      "execution_count": 5,
      "outputs": [
        {
          "output_type": "stream",
          "text": [
            "/content/GCTM\n"
          ],
          "name": "stdout"
        }
      ]
    },
    {
      "cell_type": "code",
      "metadata": {
        "colab": {
          "base_uri": "https://localhost:8080/"
        },
        "id": "CTz1SiudCTZk",
        "outputId": "282c3388-4af1-42cd-d859-fe8bb15b50ca"
      },
      "source": [
        "!python runGCTM.py --folder='data' --iteration=100 --num_topics=50 --batch_size=500 --opt='adam' --lr=0.01 --alpha=0.01 --sigma=1 --num_tests=1 --top=20\t--hidden=200 --dropout=0\n"
      ],
      "execution_count": 6,
      "outputs": [
        {
          "output_type": "stream",
          "text": [
            "Traceback (most recent call last):\n",
            "  File \"runGCTM.py\", line 43, in <module>\n",
            "    test_part1,test_part2 = data_loader.read_data_test()\n",
            "  File \"/content/GCTM/utilities.py\", line 134, in read_data_test\n",
            "    for i in range(self.num_tests):\n",
            "TypeError: 'float' object cannot be interpreted as an integer\n"
          ],
          "name": "stdout"
        }
      ]
    }
  ]
}